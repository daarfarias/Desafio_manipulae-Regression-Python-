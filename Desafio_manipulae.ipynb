{
  "nbformat": 4,
  "nbformat_minor": 0,
  "metadata": {
    "colab": {
      "name": "Cópia de Desafio_manipulae.ipynb",
      "provenance": []
    },
    "kernelspec": {
      "name": "python3",
      "display_name": "Python 3"
    },
    "language_info": {
      "name": "python"
    }
  },
  "cells": [
    {
      "cell_type": "markdown",
      "metadata": {
        "id": "a7QWPOA45FMV"
      },
      "source": [
        "# DESAFIO MACHINE LEARNING MANIPULAÊ"
      ]
    },
    {
      "cell_type": "markdown",
      "metadata": {
        "id": "SgXoUIi_UiNU"
      },
      "source": [
        "## 1. INTRODUÇÃO\n"
      ]
    },
    {
      "cell_type": "markdown",
      "metadata": {
        "id": "YLxABdLL3PxH"
      },
      "source": [
        "**OBJETIVO:** Prever valor correto da fórmula. <br>\n",
        "**MÉTRICAS UTILIZADAS:** RMSE, MAE, R-Quadrado. <br>\n",
        "**DADOS:** 7121 fórmulas de medicamentos manipulados."
      ]
    },
    {
      "cell_type": "markdown",
      "metadata": {
        "id": "PwoaYy8w1MUp"
      },
      "source": [
        "## 2. CARREGANDO PACOTES E IMPORTANDOS DADOS"
      ]
    },
    {
      "cell_type": "code",
      "metadata": {
        "id": "sjvb3eMvdBGO"
      },
      "source": [
        "# Carregar pacotes\n",
        "import pandas as pd\n",
        "import numpy as np\n",
        "import matplotlib.pyplot as plt\n",
        "import seaborn as sns\n",
        "import xlsxwriter\n",
        "import warnings\n",
        "warnings.filterwarnings('ignore')"
      ],
      "execution_count": null,
      "outputs": []
    },
    {
      "cell_type": "code",
      "metadata": {
        "id": "yf8hG71RdJsz"
      },
      "source": [
        "# Importar dados\n",
        "link= 'https://raw.githubusercontent.com/manipulaeHealth/desafio-machine-learning/main/dados_preco.csv'\n",
        "df= pd.read_csv(link)"
      ],
      "execution_count": null,
      "outputs": []
    },
    {
      "cell_type": "code",
      "metadata": {
        "colab": {
          "base_uri": "https://localhost:8080/"
        },
        "id": "taxTFyI-dJwD",
        "outputId": "ab3cd51f-0b2a-4eb4-8d97-a8122990d2b3"
      },
      "source": [
        "# Informações do dataset\n",
        "df.info()"
      ],
      "execution_count": null,
      "outputs": [
        {
          "output_type": "stream",
          "name": "stdout",
          "text": [
            "<class 'pandas.core.frame.DataFrame'>\n",
            "RangeIndex: 7121 entries, 0 to 7120\n",
            "Data columns (total 5 columns):\n",
            " #   Column      Non-Null Count  Dtype  \n",
            "---  ------      --------------  -----  \n",
            " 0   descricao   7121 non-null   object \n",
            " 1   criado      7121 non-null   object \n",
            " 2   qtdInsumos  7121 non-null   int64  \n",
            " 3   calculado   7121 non-null   float64\n",
            " 4   correto     7121 non-null   float64\n",
            "dtypes: float64(2), int64(1), object(2)\n",
            "memory usage: 278.3+ KB\n"
          ]
        }
      ]
    },
    {
      "cell_type": "code",
      "metadata": {
        "colab": {
          "base_uri": "https://localhost:8080/",
          "height": 204
        },
        "id": "VD_qS_4wpCox",
        "outputId": "524ccade-7219-4b61-b044-c3a210d40e37"
      },
      "source": [
        "# Visualizar as cinco primeiras linhas do dataset\n",
        "df.head()"
      ],
      "execution_count": null,
      "outputs": [
        {
          "output_type": "execute_result",
          "data": {
            "text/html": [
              "<div>\n",
              "<style scoped>\n",
              "    .dataframe tbody tr th:only-of-type {\n",
              "        vertical-align: middle;\n",
              "    }\n",
              "\n",
              "    .dataframe tbody tr th {\n",
              "        vertical-align: top;\n",
              "    }\n",
              "\n",
              "    .dataframe thead th {\n",
              "        text-align: right;\n",
              "    }\n",
              "</style>\n",
              "<table border=\"1\" class=\"dataframe\">\n",
              "  <thead>\n",
              "    <tr style=\"text-align: right;\">\n",
              "      <th></th>\n",
              "      <th>descricao</th>\n",
              "      <th>criado</th>\n",
              "      <th>qtdInsumos</th>\n",
              "      <th>calculado</th>\n",
              "      <th>correto</th>\n",
              "    </tr>\n",
              "  </thead>\n",
              "  <tbody>\n",
              "    <tr>\n",
              "      <th>0</th>\n",
              "      <td>30 CAP | BUPROPIONA CLORIDRATO  150MG</td>\n",
              "      <td>2020-08-05 23:19:09</td>\n",
              "      <td>1</td>\n",
              "      <td>47.5297</td>\n",
              "      <td>39.9</td>\n",
              "    </tr>\n",
              "    <tr>\n",
              "      <th>1</th>\n",
              "      <td>60 CAP | FINASTERIDA 1:10  1MG</td>\n",
              "      <td>2020-08-05 22:51:09</td>\n",
              "      <td>1</td>\n",
              "      <td>46.9620</td>\n",
              "      <td>43.6</td>\n",
              "    </tr>\n",
              "    <tr>\n",
              "      <th>2</th>\n",
              "      <td>60 CAP | NAC  250MG; SILIMARINA  150MG; SAME  ...</td>\n",
              "      <td>2020-08-05 22:51:09</td>\n",
              "      <td>3</td>\n",
              "      <td>105.1390</td>\n",
              "      <td>111.4</td>\n",
              "    </tr>\n",
              "    <tr>\n",
              "      <th>3</th>\n",
              "      <td>60 CAP | ANASTROZOL 1:10 0.300MG</td>\n",
              "      <td>2020-08-05 22:51:09</td>\n",
              "      <td>1</td>\n",
              "      <td>49.0314</td>\n",
              "      <td>43.6</td>\n",
              "    </tr>\n",
              "    <tr>\n",
              "      <th>4</th>\n",
              "      <td>120 CAP | DUTASTERIDA 0.250MG; TADALAFIL  10MG</td>\n",
              "      <td>2020-08-05 22:49:09</td>\n",
              "      <td>2</td>\n",
              "      <td>161.8272</td>\n",
              "      <td>146.0</td>\n",
              "    </tr>\n",
              "  </tbody>\n",
              "</table>\n",
              "</div>"
            ],
            "text/plain": [
              "                                           descricao  ... correto\n",
              "0              30 CAP | BUPROPIONA CLORIDRATO  150MG  ...    39.9\n",
              "1                     60 CAP | FINASTERIDA 1:10  1MG  ...    43.6\n",
              "2  60 CAP | NAC  250MG; SILIMARINA  150MG; SAME  ...  ...   111.4\n",
              "3                   60 CAP | ANASTROZOL 1:10 0.300MG  ...    43.6\n",
              "4     120 CAP | DUTASTERIDA 0.250MG; TADALAFIL  10MG  ...   146.0\n",
              "\n",
              "[5 rows x 5 columns]"
            ]
          },
          "metadata": {},
          "execution_count": 5
        }
      ]
    },
    {
      "cell_type": "code",
      "metadata": {
        "colab": {
          "base_uri": "https://localhost:8080/",
          "height": 204
        },
        "id": "Ktra-a0u05o9",
        "outputId": "ffec4dc1-8a99-449c-bd6f-5f36f62df73e"
      },
      "source": [
        "# Visualizar as cinco últimas linhas do dataset\n",
        "df.tail()"
      ],
      "execution_count": null,
      "outputs": [
        {
          "output_type": "execute_result",
          "data": {
            "text/html": [
              "<div>\n",
              "<style scoped>\n",
              "    .dataframe tbody tr th:only-of-type {\n",
              "        vertical-align: middle;\n",
              "    }\n",
              "\n",
              "    .dataframe tbody tr th {\n",
              "        vertical-align: top;\n",
              "    }\n",
              "\n",
              "    .dataframe thead th {\n",
              "        text-align: right;\n",
              "    }\n",
              "</style>\n",
              "<table border=\"1\" class=\"dataframe\">\n",
              "  <thead>\n",
              "    <tr style=\"text-align: right;\">\n",
              "      <th></th>\n",
              "      <th>descricao</th>\n",
              "      <th>criado</th>\n",
              "      <th>qtdInsumos</th>\n",
              "      <th>calculado</th>\n",
              "      <th>correto</th>\n",
              "    </tr>\n",
              "  </thead>\n",
              "  <tbody>\n",
              "    <tr>\n",
              "      <th>7116</th>\n",
              "      <td>45 CAP | SERTRALINA CLORIDRATO  40MG; SLENDEST...</td>\n",
              "      <td>2020-07-09 17:33:11</td>\n",
              "      <td>12</td>\n",
              "      <td>188.5325</td>\n",
              "      <td>181.8</td>\n",
              "    </tr>\n",
              "    <tr>\n",
              "      <th>7117</th>\n",
              "      <td>120 CAP | GREENSELECT  120MG</td>\n",
              "      <td>2020-07-09 17:24:09</td>\n",
              "      <td>1</td>\n",
              "      <td>377.6529</td>\n",
              "      <td>346.6</td>\n",
              "    </tr>\n",
              "    <tr>\n",
              "      <th>7118</th>\n",
              "      <td>60 CAP | MAGNESIO QUELADO 30%  220MG; SELENIO ...</td>\n",
              "      <td>2020-07-09 17:23:10</td>\n",
              "      <td>11</td>\n",
              "      <td>166.2868</td>\n",
              "      <td>157.2</td>\n",
              "    </tr>\n",
              "    <tr>\n",
              "      <th>7119</th>\n",
              "      <td>30 CAP | VALERIANA  50MG; PASSIFLORA  500MG; C...</td>\n",
              "      <td>2020-07-09 17:22:09</td>\n",
              "      <td>3</td>\n",
              "      <td>60.1646</td>\n",
              "      <td>68.1</td>\n",
              "    </tr>\n",
              "    <tr>\n",
              "      <th>7120</th>\n",
              "      <td>60 CAP | ACIDO TRANEXAMICO  200MG; BIOTINA 2.5...</td>\n",
              "      <td>2020-07-09 17:14:09</td>\n",
              "      <td>2</td>\n",
              "      <td>107.0370</td>\n",
              "      <td>95.3</td>\n",
              "    </tr>\n",
              "  </tbody>\n",
              "</table>\n",
              "</div>"
            ],
            "text/plain": [
              "                                              descricao  ... correto\n",
              "7116  45 CAP | SERTRALINA CLORIDRATO  40MG; SLENDEST...  ...   181.8\n",
              "7117                       120 CAP | GREENSELECT  120MG  ...   346.6\n",
              "7118  60 CAP | MAGNESIO QUELADO 30%  220MG; SELENIO ...  ...   157.2\n",
              "7119  30 CAP | VALERIANA  50MG; PASSIFLORA  500MG; C...  ...    68.1\n",
              "7120  60 CAP | ACIDO TRANEXAMICO  200MG; BIOTINA 2.5...  ...    95.3\n",
              "\n",
              "[5 rows x 5 columns]"
            ]
          },
          "metadata": {},
          "execution_count": 6
        }
      ]
    },
    {
      "cell_type": "code",
      "metadata": {
        "colab": {
          "base_uri": "https://localhost:8080/",
          "height": 297
        },
        "id": "2_J-ZwaedJy8",
        "outputId": "f322c696-fc15-4f7a-9c9b-249b087c8ea3"
      },
      "source": [
        "# Estatística descritiva\n",
        "df.describe()"
      ],
      "execution_count": null,
      "outputs": [
        {
          "output_type": "execute_result",
          "data": {
            "text/html": [
              "<div>\n",
              "<style scoped>\n",
              "    .dataframe tbody tr th:only-of-type {\n",
              "        vertical-align: middle;\n",
              "    }\n",
              "\n",
              "    .dataframe tbody tr th {\n",
              "        vertical-align: top;\n",
              "    }\n",
              "\n",
              "    .dataframe thead th {\n",
              "        text-align: right;\n",
              "    }\n",
              "</style>\n",
              "<table border=\"1\" class=\"dataframe\">\n",
              "  <thead>\n",
              "    <tr style=\"text-align: right;\">\n",
              "      <th></th>\n",
              "      <th>qtdInsumos</th>\n",
              "      <th>calculado</th>\n",
              "      <th>correto</th>\n",
              "    </tr>\n",
              "  </thead>\n",
              "  <tbody>\n",
              "    <tr>\n",
              "      <th>count</th>\n",
              "      <td>7121.000000</td>\n",
              "      <td>7121.000000</td>\n",
              "      <td>7121.000000</td>\n",
              "    </tr>\n",
              "    <tr>\n",
              "      <th>mean</th>\n",
              "      <td>3.281842</td>\n",
              "      <td>137.089552</td>\n",
              "      <td>135.891798</td>\n",
              "    </tr>\n",
              "    <tr>\n",
              "      <th>std</th>\n",
              "      <td>3.194301</td>\n",
              "      <td>191.266516</td>\n",
              "      <td>189.806974</td>\n",
              "    </tr>\n",
              "    <tr>\n",
              "      <th>min</th>\n",
              "      <td>1.000000</td>\n",
              "      <td>30.000100</td>\n",
              "      <td>33.000000</td>\n",
              "    </tr>\n",
              "    <tr>\n",
              "      <th>25%</th>\n",
              "      <td>1.000000</td>\n",
              "      <td>49.786100</td>\n",
              "      <td>49.500000</td>\n",
              "    </tr>\n",
              "    <tr>\n",
              "      <th>50%</th>\n",
              "      <td>2.000000</td>\n",
              "      <td>87.350300</td>\n",
              "      <td>83.100000</td>\n",
              "    </tr>\n",
              "    <tr>\n",
              "      <th>75%</th>\n",
              "      <td>4.000000</td>\n",
              "      <td>165.167000</td>\n",
              "      <td>161.200000</td>\n",
              "    </tr>\n",
              "    <tr>\n",
              "      <th>max</th>\n",
              "      <td>26.000000</td>\n",
              "      <td>10364.992500</td>\n",
              "      <td>10356.000000</td>\n",
              "    </tr>\n",
              "  </tbody>\n",
              "</table>\n",
              "</div>"
            ],
            "text/plain": [
              "        qtdInsumos     calculado       correto\n",
              "count  7121.000000   7121.000000   7121.000000\n",
              "mean      3.281842    137.089552    135.891798\n",
              "std       3.194301    191.266516    189.806974\n",
              "min       1.000000     30.000100     33.000000\n",
              "25%       1.000000     49.786100     49.500000\n",
              "50%       2.000000     87.350300     83.100000\n",
              "75%       4.000000    165.167000    161.200000\n",
              "max      26.000000  10364.992500  10356.000000"
            ]
          },
          "metadata": {},
          "execution_count": 7
        }
      ]
    },
    {
      "cell_type": "code",
      "metadata": {
        "colab": {
          "base_uri": "https://localhost:8080/"
        },
        "id": "WD3rkacvdJ1x",
        "outputId": "13437eb0-ad24-45a9-9add-562d4e39c386"
      },
      "source": [
        "# Checar valores NAs\n",
        "df.isnull().sum()"
      ],
      "execution_count": null,
      "outputs": [
        {
          "output_type": "execute_result",
          "data": {
            "text/plain": [
              "descricao     0\n",
              "criado        0\n",
              "qtdInsumos    0\n",
              "calculado     0\n",
              "correto       0\n",
              "dtype: int64"
            ]
          },
          "metadata": {},
          "execution_count": 8
        }
      ]
    },
    {
      "cell_type": "markdown",
      "metadata": {
        "id": "ZfIYyNtW1g3r"
      },
      "source": [
        "## 3. TRANSFORMANDO DADOS"
      ]
    },
    {
      "cell_type": "code",
      "metadata": {
        "id": "6H-9O3V8d5l7"
      },
      "source": [
        "# Criando variável quantidade\n",
        "df['quantidade'],df['descricao']= df['descricao'].str.split('|',1).str"
      ],
      "execution_count": null,
      "outputs": []
    },
    {
      "cell_type": "code",
      "metadata": {
        "id": "hrmA7t6hv9Js"
      },
      "source": [
        "# Limpando variável quantidade\n",
        "df['quantidade'],df['Tb']= df['quantidade'].str.split(' CAP',1).str"
      ],
      "execution_count": null,
      "outputs": []
    },
    {
      "cell_type": "code",
      "metadata": {
        "id": "N-2qoXfywjO3"
      },
      "source": [
        "# Definindo tipo das variáveis\n",
        "df['quantidade']= df['quantidade'].astype(int)\n",
        "df['criado']= pd.to_datetime(df['criado'])"
      ],
      "execution_count": null,
      "outputs": []
    },
    {
      "cell_type": "code",
      "metadata": {
        "id": "adqbW-NIsFYz"
      },
      "source": [
        "# Organizando novo dataset\n",
        "df= df[['descricao','quantidade','criado','qtdInsumos','calculado','correto']]"
      ],
      "execution_count": null,
      "outputs": []
    },
    {
      "cell_type": "code",
      "metadata": {
        "id": "NCbgchkHl4lB"
      },
      "source": [
        "# Tratando outliers\n",
        "df= df[df['calculado'] < 10000]\n",
        "df= df[df['correto'] < 10000]"
      ],
      "execution_count": null,
      "outputs": []
    },
    {
      "cell_type": "code",
      "metadata": {
        "colab": {
          "base_uri": "https://localhost:8080/",
          "height": 204
        },
        "id": "Ov5wCMpAdcMc",
        "outputId": "a829c5cc-2076-4829-b520-78c8d3813f88"
      },
      "source": [
        "# Visualizando as cinco primeiras linhas do dataset pós transformações\n",
        "df.head()"
      ],
      "execution_count": null,
      "outputs": [
        {
          "output_type": "execute_result",
          "data": {
            "text/html": [
              "<div>\n",
              "<style scoped>\n",
              "    .dataframe tbody tr th:only-of-type {\n",
              "        vertical-align: middle;\n",
              "    }\n",
              "\n",
              "    .dataframe tbody tr th {\n",
              "        vertical-align: top;\n",
              "    }\n",
              "\n",
              "    .dataframe thead th {\n",
              "        text-align: right;\n",
              "    }\n",
              "</style>\n",
              "<table border=\"1\" class=\"dataframe\">\n",
              "  <thead>\n",
              "    <tr style=\"text-align: right;\">\n",
              "      <th></th>\n",
              "      <th>descricao</th>\n",
              "      <th>quantidade</th>\n",
              "      <th>criado</th>\n",
              "      <th>qtdInsumos</th>\n",
              "      <th>calculado</th>\n",
              "      <th>correto</th>\n",
              "    </tr>\n",
              "  </thead>\n",
              "  <tbody>\n",
              "    <tr>\n",
              "      <th>0</th>\n",
              "      <td>BUPROPIONA CLORIDRATO  150MG</td>\n",
              "      <td>30</td>\n",
              "      <td>2020-08-05 23:19:09</td>\n",
              "      <td>1</td>\n",
              "      <td>47.5297</td>\n",
              "      <td>39.9</td>\n",
              "    </tr>\n",
              "    <tr>\n",
              "      <th>1</th>\n",
              "      <td>FINASTERIDA 1:10  1MG</td>\n",
              "      <td>60</td>\n",
              "      <td>2020-08-05 22:51:09</td>\n",
              "      <td>1</td>\n",
              "      <td>46.9620</td>\n",
              "      <td>43.6</td>\n",
              "    </tr>\n",
              "    <tr>\n",
              "      <th>2</th>\n",
              "      <td>NAC  250MG; SILIMARINA  150MG; SAME  50MG</td>\n",
              "      <td>60</td>\n",
              "      <td>2020-08-05 22:51:09</td>\n",
              "      <td>3</td>\n",
              "      <td>105.1390</td>\n",
              "      <td>111.4</td>\n",
              "    </tr>\n",
              "    <tr>\n",
              "      <th>3</th>\n",
              "      <td>ANASTROZOL 1:10 0.300MG</td>\n",
              "      <td>60</td>\n",
              "      <td>2020-08-05 22:51:09</td>\n",
              "      <td>1</td>\n",
              "      <td>49.0314</td>\n",
              "      <td>43.6</td>\n",
              "    </tr>\n",
              "    <tr>\n",
              "      <th>4</th>\n",
              "      <td>DUTASTERIDA 0.250MG; TADALAFIL  10MG</td>\n",
              "      <td>120</td>\n",
              "      <td>2020-08-05 22:49:09</td>\n",
              "      <td>2</td>\n",
              "      <td>161.8272</td>\n",
              "      <td>146.0</td>\n",
              "    </tr>\n",
              "  </tbody>\n",
              "</table>\n",
              "</div>"
            ],
            "text/plain": [
              "                                    descricao  quantidade  ... calculado  correto\n",
              "0                BUPROPIONA CLORIDRATO  150MG          30  ...   47.5297     39.9\n",
              "1                       FINASTERIDA 1:10  1MG          60  ...   46.9620     43.6\n",
              "2   NAC  250MG; SILIMARINA  150MG; SAME  50MG          60  ...  105.1390    111.4\n",
              "3                     ANASTROZOL 1:10 0.300MG          60  ...   49.0314     43.6\n",
              "4        DUTASTERIDA 0.250MG; TADALAFIL  10MG         120  ...  161.8272    146.0\n",
              "\n",
              "[5 rows x 6 columns]"
            ]
          },
          "metadata": {},
          "execution_count": 14
        }
      ]
    },
    {
      "cell_type": "code",
      "metadata": {
        "colab": {
          "base_uri": "https://localhost:8080/"
        },
        "id": "nxSTSoMKTTP1",
        "outputId": "10e914bc-651e-4490-8c9a-c42f27bfc581"
      },
      "source": [
        "# Checar valores NAs\n",
        "df.isnull().sum()"
      ],
      "execution_count": null,
      "outputs": [
        {
          "output_type": "execute_result",
          "data": {
            "text/plain": [
              "descricao     0\n",
              "quantidade    0\n",
              "criado        0\n",
              "qtdInsumos    0\n",
              "calculado     0\n",
              "correto       0\n",
              "dtype: int64"
            ]
          },
          "metadata": {},
          "execution_count": 15
        }
      ]
    },
    {
      "cell_type": "markdown",
      "metadata": {
        "id": "Q6XKBbol2YRn"
      },
      "source": [
        "## 4. ANÁLISE EXPLORATÓRIA DOS DADOS"
      ]
    },
    {
      "cell_type": "markdown",
      "metadata": {
        "id": "M5Z26BFkUnof"
      },
      "source": [
        "**DICIONÁRIO DE VARIÁVEIS**\n",
        "\n",
        "**descricao:** Descrição da fórmula (ex: zinco quelado 20mg). <br>\n",
        "**criado:** Data da criação da fórmula. <br>\n",
        "**qtdInsumos:** Quantidade de insumos da fórmula. <br>\n",
        "**calculado:** Preço pré-calculado da fórmula. <br>\n",
        "**correto:** Preço correto da fórmula."
      ]
    },
    {
      "cell_type": "code",
      "metadata": {
        "colab": {
          "base_uri": "https://localhost:8080/",
          "height": 281
        },
        "id": "sIRJkyANVpBN",
        "outputId": "a7d76e3a-30b6-4e41-ca8f-8900fe5f2a17"
      },
      "source": [
        "# Plotar variável qtdInsumos\n",
        "plt.hist(df['qtdInsumos'],bins=30,alpha=0.5)\n",
        "plt.title(\"Quantidade de Insumos da Fórmula\")\n",
        "plt.show()"
      ],
      "execution_count": null,
      "outputs": [
        {
          "output_type": "display_data",
          "data": {
            "image/png": "[encoded data removed]",
            "text/plain": [
              "<Figure size 432x288 with 1 Axes>"
            ]
          },
          "metadata": {
            "needs_background": "light"
          }
        }
      ]
    },
    {
      "cell_type": "code",
      "metadata": {
        "colab": {
          "base_uri": "https://localhost:8080/",
          "height": 281
        },
        "id": "gmZKlApZV1_r",
        "outputId": "5f66695b-78ec-469c-dfa9-dc345c650afd"
      },
      "source": [
        "# Plotar variável calculado\n",
        "plt.hist(df['calculado'],bins=30,alpha=0.5)\n",
        "plt.title(\"Preço Pré-calculado da Fórmula\")\n",
        "plt.show()"
      ],
      "execution_count": null,
      "outputs": [
        {
          "output_type": "display_data",
          "data": {
            "image/png": "[encoded data removed]",
            "text/plain": [
              "<Figure size 432x288 with 1 Axes>"
            ]
          },
          "metadata": {
            "needs_background": "light"
          }
        }
      ]
    },
    {
      "cell_type": "code",
      "metadata": {
        "colab": {
          "base_uri": "https://localhost:8080/",
          "height": 281
        },
        "id": "CDwjWz1-TnKs",
        "outputId": "9d81f564-9b38-42b8-930a-dcff8ce7871b"
      },
      "source": [
        "# Plotar variável correto\n",
        "plt.hist(df['correto'],bins=30,alpha=0.5)\n",
        "plt.title(\"Preço Correto da Fórmula\")\n",
        "plt.show()"
      ],
      "execution_count": null,
      "outputs": [
        {
          "output_type": "display_data",
          "data": {
            "image/png": "[encoded data removed]",
            "text/plain": [
              "<Figure size 432x288 with 1 Axes>"
            ]
          },
          "metadata": {
            "needs_background": "light"
          }
        }
      ]
    },
    {
      "cell_type": "code",
      "metadata": {
        "colab": {
          "base_uri": "https://localhost:8080/",
          "height": 283
        },
        "id": "crY7CKVj2eQN",
        "outputId": "18d4da28-f535-4416-b0d5-c13ceaa37b73"
      },
      "source": [
        "# Matriz de correlação\n",
        "corr=df.corr()\n",
        "sns.heatmap(corr, xticklabels=corr.columns, yticklabels=corr.columns, cmap=sns.diverging_palette(220, 10, as_cmap=True))\n",
        "plt.title(\"Matriz de Correlação\", {'fontsize':16})\n",
        "plt.show()"
      ],
      "execution_count": null,
      "outputs": [
        {
          "output_type": "display_data",
          "data": {
            "image/png": "[encoded data removed]",
            "text/plain": [
              "<Figure size 432x288 with 2 Axes>"
            ]
          },
          "metadata": {
            "needs_background": "light"
          }
        }
      ]
    },
    {
      "cell_type": "markdown",
      "metadata": {
        "id": "B-JDqmdId6yP"
      },
      "source": [
        "## 5. MODELOS MACHINE LEARNING"
      ]
    },
    {
      "cell_type": "code",
      "metadata": {
        "id": "Z13gEW6_qR_T"
      },
      "source": [
        "# Carregando pacotes\n",
        "from sklearn.linear_model import LinearRegression\n",
        "from sklearn.tree import DecisionTreeRegressor\n",
        "from sklearn.ensemble import RandomForestRegressor\n",
        "from sklearn.svm import SVR\n",
        "from sklearn.neighbors import KNeighborsRegressor\n",
        "from xgboost import XGBRegressor\n",
        "from sklearn.model_selection import train_test_split\n",
        "from sklearn.preprocessing import MinMaxScaler\n",
        "from sklearn.metrics import mean_squared_error, mean_absolute_error, r2_score "
      ],
      "execution_count": null,
      "outputs": []
    },
    {
      "cell_type": "code",
      "metadata": {
        "id": "AFVrRpuKh0Az"
      },
      "source": [
        "# Criando cópia dos dados\n",
        "df_copy=df.copy()"
      ],
      "execution_count": null,
      "outputs": []
    },
    {
      "cell_type": "code",
      "metadata": {
        "id": "gK-brjIlfSYw"
      },
      "source": [
        "# Transformando variáveis criado e descrição em dummies\n",
        "df_copy['criado']= pd.get_dummies(df_copy['criado'],drop_first=True)\n",
        "df_copy['descricao']= pd.get_dummies(df_copy['descricao'],drop_first=True)"
      ],
      "execution_count": null,
      "outputs": []
    },
    {
      "cell_type": "code",
      "metadata": {
        "id": "fwHWNGtOYaek"
      },
      "source": [
        "# Ajustando X e Y\n",
        "X= df_copy.drop(['correto'],axis=1)\n",
        "y= df_copy['correto']"
      ],
      "execution_count": null,
      "outputs": []
    },
    {
      "cell_type": "code",
      "metadata": {
        "id": "qBEfn7-h41n4"
      },
      "source": [
        "# Separar dados em treino e teste\n",
        "X_train, X_test, y_train, y_test = train_test_split(X,y,test_size=0.29,random_state=10)"
      ],
      "execution_count": null,
      "outputs": []
    },
    {
      "cell_type": "code",
      "metadata": {
        "colab": {
          "base_uri": "https://localhost:8080/"
        },
        "id": "49uNMPg9WgLf",
        "outputId": "4a5dbe69-3ab1-4284-ef91-df268597697a"
      },
      "source": [
        "# Shape dados de treino\n",
        "X_train.shape"
      ],
      "execution_count": null,
      "outputs": [
        {
          "output_type": "execute_result",
          "data": {
            "text/plain": [
              "(5055, 5)"
            ]
          },
          "metadata": {},
          "execution_count": 25
        }
      ]
    },
    {
      "cell_type": "code",
      "metadata": {
        "colab": {
          "base_uri": "https://localhost:8080/"
        },
        "id": "-spi2sF6WnI3",
        "outputId": "698a8f39-14bd-42b7-82e3-2a522cd28b6c"
      },
      "source": [
        "# Shape dados de teste\n",
        "X_test.shape"
      ],
      "execution_count": null,
      "outputs": [
        {
          "output_type": "execute_result",
          "data": {
            "text/plain": [
              "(2065, 5)"
            ]
          },
          "metadata": {},
          "execution_count": 26
        }
      ]
    },
    {
      "cell_type": "code",
      "metadata": {
        "id": "EGYxc9orbGcI"
      },
      "source": [
        "# Normalizando os dados\n",
        "scaler = MinMaxScaler()\n",
        "X_train_scaled = scaler.fit_transform(X_train)\n",
        "X_test_scaled = scaler.transform (X_test)"
      ],
      "execution_count": null,
      "outputs": []
    },
    {
      "cell_type": "markdown",
      "metadata": {
        "id": "XdgnftwlXg6-"
      },
      "source": [
        "### 5.1 LINEAR REGRESSION"
      ]
    },
    {
      "cell_type": "code",
      "metadata": {
        "id": "9G1YOzkpbg_g"
      },
      "source": [
        "# Criando modelo reg \n",
        "reg= LinearRegression()\n",
        "model_reg= reg.fit(X_train_scaled,y_train)"
      ],
      "execution_count": null,
      "outputs": []
    },
    {
      "cell_type": "code",
      "metadata": {
        "id": "fqiK447Obg8e"
      },
      "source": [
        "# Fazendo previsões reg \n",
        "pred_reg= model_reg.predict(X_test_scaled)"
      ],
      "execution_count": null,
      "outputs": []
    },
    {
      "cell_type": "code",
      "metadata": {
        "colab": {
          "base_uri": "https://localhost:8080/"
        },
        "id": "KDFX6bjKbg5p",
        "outputId": "14c15ff1-2e74-4c05-e020-1f183240d493"
      },
      "source": [
        "# Métricas modelo reg \n",
        "REGrmse= mean_squared_error(y_test,pred_reg,squared=False)\n",
        "REGmae= mean_absolute_error(y_test,pred_reg)\n",
        "REGr2= r2_score(y_test,pred_reg)\n",
        "df_reg= pd.DataFrame.from_dict({'':'Linear Regression',\n",
        "                                     'rmse':[REGrmse],\n",
        "                                     'mae':[REGmae],\n",
        "                                     'r2':[REGr2]})\n",
        "print(df_reg)"
      ],
      "execution_count": null,
      "outputs": [
        {
          "output_type": "stream",
          "name": "stdout",
          "text": [
            "                           rmse        mae        r2\n",
            "0  Linear Regression  30.451391  12.683133  0.955159\n"
          ]
        }
      ]
    },
    {
      "cell_type": "code",
      "metadata": {
        "colab": {
          "base_uri": "https://localhost:8080/",
          "height": 295
        },
        "id": "sqNXIwg6bg0C",
        "outputId": "0cc46faa-5a6e-470c-b306-af17b3ecf955"
      },
      "source": [
        "# Plotando valor real x valor previsto\n",
        "sns.regplot(y_test,pred_reg,scatter_kws={\"color\": \"black\"},line_kws={\"color\": \"red\"})\n",
        "plt.title(\"Valor real x Valor previsto\")\n",
        "plt.show()"
      ],
      "execution_count": null,
      "outputs": [
        {
          "output_type": "display_data",
          "data": {
            "image/png": "[encoded data removed]",
            "text/plain": [
              "<Figure size 432x288 with 1 Axes>"
            ]
          },
          "metadata": {
            "needs_background": "light"
          }
        }
      ]
    },
    {
      "cell_type": "markdown",
      "metadata": {
        "id": "m2QsXHjQoh3G"
      },
      "source": [
        "### 5.2 DECISION TREE"
      ]
    },
    {
      "cell_type": "code",
      "metadata": {
        "id": "h9Y8LLdSeN2l"
      },
      "source": [
        "# Criando modelo decision tree\n",
        "dtr= DecisionTreeRegressor()\n",
        "model_tree= dtr.fit(X_train_scaled,y_train)"
      ],
      "execution_count": null,
      "outputs": []
    },
    {
      "cell_type": "code",
      "metadata": {
        "id": "dZoUhpziN0a1"
      },
      "source": [
        "# Fazendo previsões modelo decision tree\n",
        "pred_tree= model_tree.predict(X_test_scaled)"
      ],
      "execution_count": null,
      "outputs": []
    },
    {
      "cell_type": "code",
      "metadata": {
        "colab": {
          "base_uri": "https://localhost:8080/"
        },
        "id": "wvV2MUqMnyuo",
        "outputId": "e04cb33a-a869-44d0-d630-76f680873625"
      },
      "source": [
        "# Métricas modelo decision tree\n",
        "TREErmse= mean_squared_error(y_test,pred_tree,squared=False)\n",
        "TREEmae= mean_absolute_error(y_test,pred_tree)\n",
        "TREEr2= r2_score(y_test,pred_tree)\n",
        "df_tree= pd.DataFrame.from_dict({'':'Decision Tree',\n",
        "                                     'rmse':[TREErmse],\n",
        "                                     'mae':[TREEmae],\n",
        "                                     'r2':[TREEr2]})\n",
        "print(df_tree)"
      ],
      "execution_count": null,
      "outputs": [
        {
          "output_type": "stream",
          "name": "stdout",
          "text": [
            "                       rmse       mae        r2\n",
            "0  Decision Tree  63.152819  16.05812  0.807137\n"
          ]
        }
      ]
    },
    {
      "cell_type": "code",
      "metadata": {
        "colab": {
          "base_uri": "https://localhost:8080/"
        },
        "id": "s4FhWLggnyot",
        "outputId": "dfc11d3a-425a-485b-a2b3-9c8c1349a1c5"
      },
      "source": [
        "# Plotando valor real x valor previsto\n",
        "sns.regplot(y_test,pred_tree,scatter_kws={\"color\": \"black\"},line_kws={\"color\": \"red\"})\n",
        "plt.title(\"Valor real x Valor previsto\")\n",
        "plt.show()"
      ],
      "execution_count": null,
      "outputs": [
        {
          "output_type": "display_data",
          "data": {
            "image/png": "[encoded data removed]",
            "text/plain": [
              "<Figure size 432x288 with 1 Axes>"
            ]
          },
          "metadata": {
            "needs_background": "light"
          }
        }
      ]
    },
    {
      "cell_type": "markdown",
      "metadata": {
        "id": "zVzjDYQdqF0T"
      },
      "source": [
        "### 5.3 RANDOM FOREST"
      ]
    },
    {
      "cell_type": "code",
      "metadata": {
        "id": "5Jq2K_Jwo6xa"
      },
      "source": [
        "# Criando modelo random forest\n",
        "random = RandomForestRegressor(n_estimators = 250)\n",
        "model_rf= random.fit(X_train_scaled,y_train)"
      ],
      "execution_count": null,
      "outputs": []
    },
    {
      "cell_type": "code",
      "metadata": {
        "id": "E5fkWnzNo6xc"
      },
      "source": [
        "# Fazendo previsões modelo random forest\n",
        "pred_rf= model_rf.predict(X_test_scaled)"
      ],
      "execution_count": null,
      "outputs": []
    },
    {
      "cell_type": "code",
      "metadata": {
        "colab": {
          "base_uri": "https://localhost:8080/"
        },
        "id": "xGCrefWIo6xc",
        "outputId": "23b9dab2-f1ee-4c60-db48-6498e7241757"
      },
      "source": [
        "# Métricas modelo random forest\n",
        "RFrmse= mean_squared_error(y_test,pred_rf,squared=False)\n",
        "RFmae= mean_absolute_error(y_test,pred_rf)\n",
        "RFr2= r2_score(y_test,pred_rf)\n",
        "df_rf= pd.DataFrame.from_dict({'':'Decision Tree',\n",
        "                                     'rmse':[RFrmse],\n",
        "                                     'mae':[RFmae],\n",
        "                                     'r2':[RFr2]})\n",
        "print(df_rf)"
      ],
      "execution_count": null,
      "outputs": [
        {
          "output_type": "stream",
          "name": "stdout",
          "text": [
            "                       rmse        mae        r2\n",
            "0  Decision Tree  35.982952  11.952832  0.937388\n"
          ]
        }
      ]
    },
    {
      "cell_type": "code",
      "metadata": {
        "colab": {
          "base_uri": "https://localhost:8080/"
        },
        "id": "rowvDi1Vo6xc",
        "outputId": "92afa059-0169-4ad1-8123-382b4aa1f936"
      },
      "source": [
        "# Plotando valor real x valor previsto\n",
        "sns.regplot(y_test,pred_rf,scatter_kws={\"color\": \"black\"},line_kws={\"color\": \"red\"})\n",
        "plt.title(\"Valor real x Valor previsto\")\n",
        "plt.show()"
      ],
      "execution_count": null,
      "outputs": [
        {
          "output_type": "display_data",
          "data": {
            "image/png": "[encoded data removed]",
            "text/plain": [
              "<Figure size 432x288 with 1 Axes>"
            ]
          },
          "metadata": {
            "needs_background": "light"
          }
        }
      ]
    },
    {
      "cell_type": "markdown",
      "metadata": {
        "id": "861Euks5tkQt"
      },
      "source": [
        "### 5.4 SVM"
      ]
    },
    {
      "cell_type": "code",
      "metadata": {
        "id": "JwsLKFS1quXT"
      },
      "source": [
        "# Criando modelo SVM\n",
        "svm = SVR(kernel='rbf')\n",
        "model_svm= svm.fit(X_train_scaled,y_train)"
      ],
      "execution_count": null,
      "outputs": []
    },
    {
      "cell_type": "code",
      "metadata": {
        "id": "M9MuJR5OquXU"
      },
      "source": [
        "# Fazendo previsões modelo SVM\n",
        "pred_svm= model_svm.predict(X_test_scaled)"
      ],
      "execution_count": null,
      "outputs": []
    },
    {
      "cell_type": "code",
      "metadata": {
        "colab": {
          "base_uri": "https://localhost:8080/"
        },
        "id": "BOGCW836quXU",
        "outputId": "592cee58-48a7-45ba-efca-8abeb23639b9"
      },
      "source": [
        "# Métricas modelo SVM\n",
        "SVMrmse= mean_squared_error(y_test,pred_svm,squared=False)\n",
        "SVMmae= mean_absolute_error(y_test,pred_svm)\n",
        "SVMr2= r2_score(y_test,pred_svm)\n",
        "df_svm= pd.DataFrame.from_dict({'':'SVM',\n",
        "                                     'rmse':[SVMrmse],\n",
        "                                     'mae':[SVMmae],\n",
        "                                     'r2':[SVMr2]})\n",
        "print(df_svm)"
      ],
      "execution_count": null,
      "outputs": [
        {
          "output_type": "stream",
          "name": "stdout",
          "text": [
            "             rmse        mae        r2\n",
            "0  SVM  95.368887  33.832031  0.560179\n"
          ]
        }
      ]
    },
    {
      "cell_type": "code",
      "metadata": {
        "colab": {
          "base_uri": "https://localhost:8080/"
        },
        "id": "4DFH9kffquXU",
        "outputId": "ad947f9d-6535-4b50-9cd1-d4f0317c31b0"
      },
      "source": [
        "# Plotando valor real x valor previsto\n",
        "sns.regplot(y_test,pred_svm,scatter_kws={\"color\": \"black\"},line_kws={\"color\": \"red\"})\n",
        "plt.title(\"Valor real x Valor previsto\")\n",
        "plt.show()"
      ],
      "execution_count": null,
      "outputs": [
        {
          "output_type": "display_data",
          "data": {
            "image/png": "[encoded data removed]",
            "text/plain": [
              "<Figure size 432x288 with 1 Axes>"
            ]
          },
          "metadata": {
            "needs_background": "light"
          }
        }
      ]
    },
    {
      "cell_type": "markdown",
      "metadata": {
        "id": "KAcfl17PwZIe"
      },
      "source": [
        "### 5.5 KNN"
      ]
    },
    {
      "cell_type": "code",
      "metadata": {
        "id": "FfLlsvNjvuKG"
      },
      "source": [
        "# Criando modelo knn\n",
        "knn= KNeighborsRegressor()\n",
        "model_knn= knn.fit(X_train,y_train)"
      ],
      "execution_count": null,
      "outputs": []
    },
    {
      "cell_type": "code",
      "metadata": {
        "id": "IYS1DyXqvuKP"
      },
      "source": [
        "# Fazendo previsões modelo knn\n",
        "pred_knn= model_knn.predict(X_test)"
      ],
      "execution_count": null,
      "outputs": []
    },
    {
      "cell_type": "code",
      "metadata": {
        "colab": {
          "base_uri": "https://localhost:8080/"
        },
        "id": "s29vbmEkvuKP",
        "outputId": "79022d38-1e26-4690-a758-d5210e73a209"
      },
      "source": [
        "# Métricas modelo knn\n",
        "KNNrmse= mean_squared_error(y_test,pred_knn,squared=False)\n",
        "KNNmae= mean_absolute_error(y_test,pred_knn)\n",
        "KNNr2= r2_score(y_test,pred_knn)\n",
        "df_knn= pd.DataFrame.from_dict({'':'KNN',\n",
        "                                     'rmse':[KNNrmse],\n",
        "                                     'mae':[KNNmae],\n",
        "                                     'r2':[KNNr2]})\n",
        "print(df_knn)"
      ],
      "execution_count": null,
      "outputs": [
        {
          "output_type": "stream",
          "name": "stdout",
          "text": [
            "             rmse        mae        r2\n",
            "0  KNN  34.005387  12.040866  0.944081\n"
          ]
        }
      ]
    },
    {
      "cell_type": "code",
      "metadata": {
        "colab": {
          "base_uri": "https://localhost:8080/"
        },
        "id": "uqZH2ghrvuKP",
        "outputId": "e861b25b-8c2c-4670-cd3b-e5aa3b2d1181"
      },
      "source": [
        "# Plotando valor real x valor previsto\n",
        "sns.regplot(y_test,pred_knn,scatter_kws={\"color\": \"black\"},line_kws={\"color\": \"red\"})\n",
        "plt.title(\"Valor real x Valor previsto\")\n",
        "plt.show()"
      ],
      "execution_count": null,
      "outputs": [
        {
          "output_type": "display_data",
          "data": {
            "image/png": "[encoded data removed]",
            "text/plain": [
              "<Figure size 432x288 with 1 Axes>"
            ]
          },
          "metadata": {
            "needs_background": "light"
          }
        }
      ]
    },
    {
      "cell_type": "markdown",
      "metadata": {
        "id": "7j2SswLY7NmE"
      },
      "source": [
        "### 5.6 XGBOOST"
      ]
    },
    {
      "cell_type": "code",
      "metadata": {
        "id": "aEvN_QSp52qI"
      },
      "source": [
        "# Criando modelo XGBoost\n",
        "xgb= XGBRegressor()\n",
        "model_xgb= knn.fit(X_train_scaled,y_train)"
      ],
      "execution_count": null,
      "outputs": []
    },
    {
      "cell_type": "code",
      "metadata": {
        "id": "7xbhu7xw52qJ"
      },
      "source": [
        "# Fazendo previsões modelo XGBoost\n",
        "pred_xgb= model_xgb.predict(X_test_scaled)"
      ],
      "execution_count": null,
      "outputs": []
    },
    {
      "cell_type": "code",
      "metadata": {
        "colab": {
          "base_uri": "https://localhost:8080/"
        },
        "id": "dZh_ISLQ52qJ",
        "outputId": "d1e7443f-f246-4cfc-8670-868f02226af4"
      },
      "source": [
        "# Métricas modelo XGBoost\n",
        "XGBrmse= mean_squared_error(y_test,pred_xgb,squared=False)\n",
        "XGBmae= mean_absolute_error(y_test,pred_xgb)\n",
        "XGBr2= r2_score(y_test,pred_xgb)\n",
        "df_xgb= pd.DataFrame.from_dict({'':'XGBOOST',\n",
        "                                     'rmse':[XGBrmse],\n",
        "                                     'mae':[XGBmae],\n",
        "                                     'r2':[XGBr2]})\n",
        "print(df_xgb)"
      ],
      "execution_count": null,
      "outputs": [
        {
          "output_type": "stream",
          "name": "stdout",
          "text": [
            "                 rmse        mae        r2\n",
            "0  XGBOOST  39.365093  13.819565  0.925065\n"
          ]
        }
      ]
    },
    {
      "cell_type": "code",
      "metadata": {
        "colab": {
          "base_uri": "https://localhost:8080/"
        },
        "id": "-mH13waa52qK",
        "outputId": "b8c7d4bf-b7cd-4d02-82f0-e0ad8506c1b3"
      },
      "source": [
        "# Plotando valor real x valor previsto\n",
        "sns.regplot(y_test,pred_xgb,scatter_kws={\"color\": \"black\"},line_kws={\"color\": \"red\"})\n",
        "plt.title(\"Valor real x Valor previsto\")\n",
        "plt.show()"
      ],
      "execution_count": null,
      "outputs": [
        {
          "output_type": "display_data",
          "data": {
            "image/png": "[encoded data removed]",
            "text/plain": [
              "<Figure size 432x288 with 1 Axes>"
            ]
          },
          "metadata": {
            "needs_background": "light"
          }
        }
      ]
    },
    {
      "cell_type": "markdown",
      "metadata": {
        "id": "jjHXeSca1iy2"
      },
      "source": [
        "## 6. RESULTADOS"
      ]
    },
    {
      "cell_type": "code",
      "metadata": {
        "id": "U1Qd1uRP1AYu"
      },
      "source": [
        "# Listas modelos\n",
        "algorithms=[\"Linear Regression\",\"Decision Tree\",\"Random Forest\",\"SVM\",\"KNN\",'XGBOOST']\n",
        "list_pred=[pred_reg,pred_tree,pred_rf,pred_svm,pred_knn,pred_xgb]"
      ],
      "execution_count": null,
      "outputs": []
    },
    {
      "cell_type": "code",
      "metadata": {
        "id": "qGLZxKID1B9v"
      },
      "source": [
        "# Construir tabela de comparação\n",
        "df_comp = pd.DataFrame()\n",
        "for i in list_pred:\n",
        "  rmse= mean_squared_error(y_test,i,squared=False)\n",
        "  mae= mean_absolute_error(y_test,i)\n",
        "  r2= r2_score(y_test,i)\n",
        "  temp= pd.DataFrame(\n",
        "      {\"RMSE\":rmse,\n",
        "       \"MAE\":mae,\n",
        "       \"R2\":r2},index=[0])\n",
        "  df_comp = pd.concat([df_comp, temp])\n",
        "df_comp.insert(0,'Modelo',algorithms)"
      ],
      "execution_count": null,
      "outputs": []
    },
    {
      "cell_type": "code",
      "metadata": {
        "id": "myFT0Yml1GHf",
        "colab": {
          "base_uri": "https://localhost:8080/"
        },
        "outputId": "d77f6d86-6e42-4421-c8db-d09b223f081c"
      },
      "source": [
        "# Comparando modelos\n",
        "print(df_comp.sort_values('RMSE'))"
      ],
      "execution_count": null,
      "outputs": [
        {
          "output_type": "stream",
          "name": "stdout",
          "text": [
            "              Modelo       RMSE        MAE        R2\n",
            "0  Linear Regression  30.451391  12.683133  0.955159\n",
            "0                KNN  34.005387  12.040866  0.944081\n",
            "0      Random Forest  35.982952  11.952832  0.937388\n",
            "0            XGBOOST  39.365093  13.819565  0.925065\n",
            "0      Decision Tree  63.152819  16.058120  0.807137\n",
            "0                SVM  95.368887  33.832031  0.560179\n"
          ]
        }
      ]
    },
    {
      "cell_type": "code",
      "metadata": {
        "id": "0PaPjCzXuKGJ"
      },
      "source": [
        "# Salvando previsões\n",
        "df_predicts=pd.DataFrame(data={'Actual': y_test,\n",
        "                          'Pred_Reg': pred_reg,\n",
        "                          'Pred_Tree':pred_tree,\n",
        "                          'Pred_RF':pred_rf,\n",
        "                          'Pred_SVM':pred_svm,\n",
        "                          'Pred_KNN':pred_knn,\n",
        "                          'Pred_XGB':pred_xgb})"
      ],
      "execution_count": null,
      "outputs": []
    },
    {
      "cell_type": "code",
      "metadata": {
        "id": "iVT5QHYxa_lJ"
      },
      "source": [
        "# Salvando tabelas\n",
        "writer = pd.ExcelWriter('desafio.xlsx', engine='xlsxwriter')\n",
        "df.to_excel(writer, sheet_name='Tabela Preço',index=False)\n",
        "df_comp.to_excel(writer, sheet_name='Resultados',index=False)\n",
        "df_predicts.to_excel(writer,sheet_name='Valores Preditos')\n",
        "writer.save()"
      ],
      "execution_count": null,
      "outputs": []
    }
  ]
}